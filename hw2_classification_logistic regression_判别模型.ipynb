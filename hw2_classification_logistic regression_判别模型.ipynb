{
 "cells": [
  {
   "cell_type": "code",
   "execution_count": 1,
   "metadata": {},
   "outputs": [],
   "source": [
    "import numpy as np\n",
    "import pandas as pd\n",
    "from pandas import Series,DataFrame\n",
    "import matplotlib.pyplot as plt\n",
    "import math\n",
    "import csv\n",
    "import random"
   ]
  },
  {
   "cell_type": "markdown",
   "metadata": {},
   "source": [
    "# 导入数据"
   ]
  },
  {
   "cell_type": "code",
   "execution_count": 2,
   "metadata": {},
   "outputs": [],
   "source": [
    "#文件位置\n",
    "X_train_fpath = 'hw2_data/X_train.csv'\n",
    "Y_train_fpath = 'hw2_data/Y_train.csv'\n",
    "X_test_fpath = 'hw2_data/X_test.csv'\n",
    "output_fpath = 'hw2_data/预测结果_{}.csv'\n",
    "\n",
    "#读文件 + 定好数据类型为float\n",
    "data = pd.read_csv(X_train_fpath)\n",
    "X_train =data.iloc[:, 1:].to_numpy(dtype = np.float)\n",
    "data = pd.read_csv(Y_train_fpath)\n",
    "Y_train =data.iloc[:, 1:].to_numpy(dtype = np.float)\n",
    "data = pd.read_csv(X_test_fpath)\n",
    "X_test =data.iloc[:, 1:].to_numpy(dtype = np.float)"
   ]
  },
  {
   "cell_type": "markdown",
   "metadata": {},
   "source": [
    "# 预处理"
   ]
  },
  {
   "cell_type": "code",
   "execution_count": 3,
   "metadata": {},
   "outputs": [],
   "source": [
    "eps = 1e-8 #一个非常小的数"
   ]
  },
  {
   "cell_type": "code",
   "execution_count": 4,
   "metadata": {},
   "outputs": [
    {
     "name": "stdout",
     "output_type": "stream",
     "text": [
      "Size of training set: 48830\n",
      "Size of development set: 5426\n",
      "Size of testing set: 27622\n",
      "data 的维度: 510\n"
     ]
    }
   ],
   "source": [
    "def _normalize(X, train = True, specified_column = None, X_mean = None, X_std = None): #归一化\n",
    "    if specified_column == None: #生成一个数组[0, 1,....,X.shape[1]-1 ]\n",
    "        specified_column = np.arange(X.shape[1])\n",
    "    if train:#只有训练集有多列，需要单独算每一列\n",
    "        X_mean = np.mean(X[:, specified_column] ,0).reshape(1, -1) #算每列的平均值，并把结果形状变成一行\n",
    "        X_std  = np.std(X[:, specified_column], 0).reshape(1, -1) #算每列的标准差，并把结果形状变成一行\n",
    "    X[:,specified_column] = (X[:, specified_column] - X_mean) / (X_std + eps)  #归一化 加上eps避免分母為 0\n",
    "    return X, X_mean, X_std\n",
    "\n",
    "\n",
    "def _train_dev_split(X, Y, dev_ratio = 0.25):# 将data分成training set 和 development set，输入是 X 和 Y\n",
    "    train_size = int(len(X) * (1 - dev_ratio))\n",
    "    return X[:train_size], Y[:train_size], X[train_size:], Y[train_size:]\n",
    "\n",
    "def _shuffle(X, Y): #按行打乱顺序\n",
    "    randomize = np.arange(len(X))\n",
    "    np.random.shuffle(randomize)\n",
    "    return (X[randomize], Y[randomize])\n",
    "\n",
    "\n",
    "X_train, X_mean, X_std = _normalize(X_train, train = True)\n",
    "X_test, _, _= _normalize(X_test, train = False, specified_column = None, X_mean = X_mean, X_std = X_std) #测试集归一化使用的是训练集的均值和标准差\n",
    "\n",
    "dev_ratio = 0.1\n",
    "X_train, Y_train, X_dev, Y_dev = _train_dev_split(X_train, Y_train, dev_ratio = dev_ratio) #分成训练集和验证集\n",
    "\n",
    "\n",
    "train_size = X_train.shape[0]\n",
    "dev_size = X_dev.shape[0]\n",
    "test_size = X_test.shape[0]\n",
    "data_dim = X_train.shape[1]\n",
    "print('Size of training set: {}'.format(train_size))\n",
    "print('Size of development set: {}'.format(dev_size))\n",
    "print('Size of testing set: {}'.format(test_size))\n",
    "print('data 的维度: {}'.format(data_dim))\n"
   ]
  },
  {
   "cell_type": "markdown",
   "metadata": {},
   "source": [
    "# 概率计算公式\n",
    "$$ probability = \\sigma(z) = {1 \\over {1+e^{-z}}} $$    其中：   $$ z = f_{w,b}(x)= \\sum_i X_iw_i + b $$"
   ]
  },
  {
   "cell_type": "code",
   "execution_count": 5,
   "metadata": {},
   "outputs": [],
   "source": [
    "def _sigmoid(z):#算概率\n",
    "    return np.clip(1 / (1.0 + np.exp(-z)), eps, 1 - eps) \n",
    "    #将数组中的元素限制在eps, 1-eps之间，大于1-eps的就使得它等于1-eps，小于eps,的就使得它等于eps\n",
    "\n",
    "def _f(X, w, b):# 每一行的可能性\n",
    "    ans = _sigmoid(np.matmul(X, w) + b)\n",
    "    ans = ans.reshape(-1, 1) #形状变成列向量\n",
    "    return ans\n",
    "\n",
    "def _predict(X, w, b): #将结果四舍五入, <0.5为0, >0.5为1\n",
    "    return np.round(_f(X, w, b)).astype(np.int)\n",
    "\n",
    "def _accuracy(Y_pred, Y_label):# 算是否准确\n",
    "    acc = 1 - np.mean(np.abs(Y_pred - Y_label))\n",
    "    return acc"
   ]
  },
  {
   "cell_type": "markdown",
   "metadata": {},
   "source": [
    "# 梯度及損失函數計算公式\n",
    "上課投影片第 12 頁\n",
    "\n",
    "单个点交叉熵公式：实际上是最大似然值再取对数\n",
    "$$ cross\\_entropy = -\\sum^n_{i=1}[\\hat y_i lnf_{w,b}(x_i) + (1-\\hat y_i) ln(1-f_{w,b}(x_i))] $$\n",
    "矩阵版交叉熵公式：\n",
    "$$ cross\\_entropy = -[\\hat Y lnY + (1-\\hat Y)(ln(1 - Y))] $$"
   ]
  },
  {
   "cell_type": "code",
   "execution_count": 6,
   "metadata": {},
   "outputs": [],
   "source": [
    "def _cross_entropy_loss(y_pred, Y_label): #交叉熵算出来是一个数\n",
    "    cross_entropy = -np.dot(Y_label.T, np.log(y_pred)) - np.dot((1 - Y_label.T), np.log(1 - y_pred)) #和答案相比转置了Y_label, \n",
    "    return cross_entropy[0][0]\n",
    "\n",
    "def _gradient(X, Y_label, w, b): # 计算交叉熵loss的梯度\n",
    "    y_pred = _f(X, w, b)\n",
    "    pred_error = Y_label - y_pred\n",
    "    #w_grad = -np.sum(pred_error * X.T, 1) #算出来的结果是一条对角线，然后通过求和变成一列\n",
    "    w_grad = -np.matmul(X.T, pred_error)\n",
    "    b_grad = -np.sum(pred_error)\n",
    "    return w_grad, b_grad"
   ]
  },
  {
   "cell_type": "markdown",
   "metadata": {},
   "source": [
    "# 训练\n",
    "我們使用小批次梯度下降法來訓練\n",
    "\n",
    "訓練資料被分為許多小批次，針對每一個小批次，我們分別計算其梯度以及損失，並根據該批次來更新模型的參數\n",
    "\n",
    "當一次迴圈完成，也就是整個訓練集的所有小批次都被使用過一次以後，我們將所有訓練資料打散並且重新分成新的小批次，進行下一個迴圈，直到事先設定的迴圈數量達成為止\n",
    "\n",
    "更新参数：\n",
    "$$ w = w - {learning\\_rate \\over \\sqrt {step}} \\times w\\_grad $$\n",
    "\n",
    "$$ b = b - {learning\\_rate \\over \\sqrt {step}} \\times b\\_grad $$"
   ]
  },
  {
   "cell_type": "code",
   "execution_count": 7,
   "metadata": {},
   "outputs": [],
   "source": [
    "#初始化\n",
    "w = np.zeros((data_dim,1)) #修改形状为(data_dim,1), 答案为一维行向量\n",
    "b = np.zeros((1,1))\n",
    "max_iter = 50 #整个重复数据集使用的次数\n",
    "batch_size = 50 #一批训练的数据点个数\n",
    "learning_rate = 0.2\n",
    "\n",
    "train_loss = []\n",
    "dev_loss = []\n",
    "train_acc = [] #训练集的准确性\n",
    "dev_acc = [] #验证集的准确性\n",
    "step = 1 # 降低后面的学习速度"
   ]
  },
  {
   "cell_type": "code",
   "execution_count": 8,
   "metadata": {},
   "outputs": [
    {
     "name": "stderr",
     "output_type": "stream",
     "text": [
      "<ipython-input-5-f47562a31edd>:2: RuntimeWarning: overflow encountered in exp\n",
      "  return np.clip(1 / (1.0 + np.exp(-z)), eps, 1 - eps)\n"
     ]
    },
    {
     "name": "stdout",
     "output_type": "stream",
     "text": [
      "Training loss: 0.2711004479441347\n",
      "Development loss: 0.29306385896642395\n",
      "Training accuracy: 0.8842924431701823\n",
      "Development accuracy: 0.875783265757464\n"
     ]
    }
   ],
   "source": [
    "#反复训练\n",
    "for epoch in range(max_iter): # 打乱顺序\n",
    "    X_train, Y_train = _shuffle(X_train, Y_train)\n",
    "        \n",
    "    # Mini-batch training\n",
    "    for idx in range(int(np.floor(train_size / batch_size))): #分批\n",
    "        X = X_train[idx*batch_size : (idx+1)*batch_size]\n",
    "        Y = Y_train[idx*batch_size : (idx+1)*batch_size]\n",
    "        w_grad, b_grad = _gradient(X, Y, w, b) #算w和b的梯度\n",
    "        w = w - learning_rate/np.sqrt(step) * w_grad #更新\n",
    "        b = b - learning_rate/np.sqrt(step) * b_grad\n",
    "\n",
    "        step = step + 1\n",
    "    \n",
    "    #一轮完成后\n",
    "    y_train_pred = _f(X_train, w, b) #算预测的值\n",
    "    Y_train_pred = np.round(y_train_pred) #将结果四舍五入, <0.5为0, >0.5为1\n",
    "    train_acc.append(_accuracy(Y_train_pred, Y_train)) #计算准确率\n",
    "    train_loss.append((_cross_entropy_loss(y_train_pred, Y_train) / train_size)) #@计算loss\n",
    "\n",
    "    #验证\n",
    "    y_dev_pred = _f(X_dev, w, b)\n",
    "    Y_dev_pred = np.round(y_dev_pred)\n",
    "    dev_acc.append(_accuracy(Y_dev_pred, Y_dev))\n",
    "    dev_loss.append((_cross_entropy_loss(y_dev_pred, Y_dev) / dev_size))\n",
    "\n",
    "print('Training loss: {}'.format(train_loss[-1]))\n",
    "print('Development loss: {}'.format(dev_loss[-1]))\n",
    "print('Training accuracy: {}'.format(train_acc[-1]))\n",
    "print('Development accuracy: {}'.format(dev_acc[-1]))\n"
   ]
  },
  {
   "cell_type": "code",
   "execution_count": 9,
   "metadata": {},
   "outputs": [
    {
     "data": {
      "image/png": "[encoded data removed]",
      "text/plain": [
       "<Figure size 432x288 with 1 Axes>"
      ]
     },
     "metadata": {
      "needs_background": "light"
     },
     "output_type": "display_data"
    },
    {
     "data": {
      "image/png": "[encoded data removed]",
      "text/plain": [
       "<Figure size 432x288 with 1 Axes>"
      ]
     },
     "metadata": {
      "needs_background": "light"
     },
     "output_type": "display_data"
    }
   ],
   "source": [
    "import matplotlib.pyplot as plt\n",
    "\n",
    "# Loss curve\n",
    "plt.plot(train_loss)\n",
    "plt.plot(dev_loss)\n",
    "plt.title('Loss')\n",
    "plt.legend(['train', 'dev'])\n",
    "#plt.savefig('loss.png')\n",
    "plt.show()\n",
    "\n",
    "# Accuracy curve\n",
    "plt.plot(train_acc)\n",
    "plt.plot(dev_acc)\n",
    "plt.title('Accuracy')\n",
    "plt.legend(['train', 'dev'])\n",
    "#plt.savefig('acc.png')\n",
    "plt.show()"
   ]
  },
  {
   "cell_type": "markdown",
   "metadata": {},
   "source": [
    "# 預測測試集的資料標籤"
   ]
  },
  {
   "cell_type": "code",
   "execution_count": 10,
   "metadata": {},
   "outputs": [
    {
     "name": "stdout",
     "output_type": "stream",
     "text": [
      " Local government -3.3957183161235873\n",
      "2 -2.730023319039957\n",
      " High school graduate -2.726068616443432\n",
      " No 2.3094500480913918\n",
      " Vietnam -2.254034736333589\n",
      "num persons worked for employer 1.9117001527546935\n",
      " Other Rel 18+ ever marr RP of subfamily -1.8675257814535973\n",
      " Grandchild 18+ ever marr not in subfamily -1.8524454926267169\n",
      " Grandchild 18+ never marr RP of subfamily -1.766864876936216\n",
      " Child under 18 ever married -1.766059177411513\n"
     ]
    },
    {
     "name": "stderr",
     "output_type": "stream",
     "text": [
      "<ipython-input-5-f47562a31edd>:2: RuntimeWarning: overflow encountered in exp\n",
      "  return np.clip(1 / (1.0 + np.exp(-z)), eps, 1 - eps)\n"
     ]
    }
   ],
   "source": [
    "# Predict testing labels\n",
    "predictions = _predict(X_test, w, b)\n",
    "with open(output_fpath.format('逻辑分类'), 'w') as f:\n",
    "    f.write('id,label\\n')\n",
    "    for i, label in  enumerate(predictions):\n",
    "        f.write('{},{}\\n'.format(i, label[0]))\n",
    "\n",
    "# Print out the most significant weights\n",
    "w1 = w.reshape(w.shape[0])\n",
    "ind = np.argsort(np.abs(w1))[::-1]\n",
    "with open(X_test_fpath) as f:\n",
    "    content = f.readline().strip('\\n').split(',')\n",
    "features = np.array(content)\n",
    "for i in ind[0:10]:\n",
    "    print(features[i], w[i][0])"
   ]
  }
 ],
 "metadata": {
  "kernelspec": {
   "display_name": "Python 3",
   "language": "python",
   "name": "python3"
  },
  "language_info": {
   "codemirror_mode": {
    "name": "ipython",
    "version": 3
   },
   "file_extension": ".py",
   "mimetype": "text/x-python",
   "name": "python",
   "nbconvert_exporter": "python",
   "pygments_lexer": "ipython3",
   "version": "3.8.5"
  }
 },
 "nbformat": 4,
 "nbformat_minor": 4
}
